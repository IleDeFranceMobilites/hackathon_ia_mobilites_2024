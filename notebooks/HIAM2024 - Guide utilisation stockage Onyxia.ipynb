{
 "cells": [
  {
   "cell_type": "markdown",
   "id": "50b679a1",
   "metadata": {},
   "source": [
    "# Exploitation des jeux de données du hackathon IA & Mobilités 2024"
   ]
  },
  {
   "cell_type": "markdown",
   "id": "aa7e776f",
   "metadata": {},
   "source": [
    "<!> Ce guide est destiné aux participants du hackathon et est valable pour les services instanciés dans le groupe \"dlb-hackathon\" <!>"
   ]
  },
  {
   "cell_type": "markdown",
   "id": "aa6d7fc0",
   "metadata": {},
   "source": [
    "## Installation du client Minio S3 (stockage distribué)"
   ]
  },
  {
   "cell_type": "code",
   "execution_count": 1,
   "id": "0dc1c854",
   "metadata": {},
   "outputs": [
    {
     "name": "stdout",
     "output_type": "stream",
     "text": [
      "Requirement already satisfied: s3fs in /opt/conda/lib/python3.12/site-packages (2024.10.0)\n",
      "Requirement already satisfied: aiobotocore<3.0.0,>=2.5.4 in /opt/conda/lib/python3.12/site-packages (from s3fs) (2.15.1)\n",
      "Requirement already satisfied: fsspec==2024.10.0.* in /opt/conda/lib/python3.12/site-packages (from s3fs) (2024.10.0)\n",
      "Requirement already satisfied: aiohttp!=4.0.0a0,!=4.0.0a1 in /opt/conda/lib/python3.12/site-packages (from s3fs) (3.10.10)\n",
      "Requirement already satisfied: botocore<1.35.24,>=1.35.16 in /opt/conda/lib/python3.12/site-packages (from aiobotocore<3.0.0,>=2.5.4->s3fs) (1.35.23)\n",
      "Requirement already satisfied: wrapt<2.0.0,>=1.10.10 in /opt/conda/lib/python3.12/site-packages (from aiobotocore<3.0.0,>=2.5.4->s3fs) (1.16.0)\n",
      "Requirement already satisfied: aioitertools<1.0.0,>=0.5.1 in /opt/conda/lib/python3.12/site-packages (from aiobotocore<3.0.0,>=2.5.4->s3fs) (0.12.0)\n",
      "Requirement already satisfied: aiohappyeyeballs>=2.3.0 in /opt/conda/lib/python3.12/site-packages (from aiohttp!=4.0.0a0,!=4.0.0a1->s3fs) (2.4.3)\n",
      "Requirement already satisfied: aiosignal>=1.1.2 in /opt/conda/lib/python3.12/site-packages (from aiohttp!=4.0.0a0,!=4.0.0a1->s3fs) (1.3.1)\n",
      "Requirement already satisfied: attrs>=17.3.0 in /opt/conda/lib/python3.12/site-packages (from aiohttp!=4.0.0a0,!=4.0.0a1->s3fs) (24.2.0)\n",
      "Requirement already satisfied: frozenlist>=1.1.1 in /opt/conda/lib/python3.12/site-packages (from aiohttp!=4.0.0a0,!=4.0.0a1->s3fs) (1.5.0)\n",
      "Requirement already satisfied: multidict<7.0,>=4.5 in /opt/conda/lib/python3.12/site-packages (from aiohttp!=4.0.0a0,!=4.0.0a1->s3fs) (6.1.0)\n",
      "Requirement already satisfied: yarl<2.0,>=1.12.0 in /opt/conda/lib/python3.12/site-packages (from aiohttp!=4.0.0a0,!=4.0.0a1->s3fs) (1.16.0)\n",
      "Requirement already satisfied: jmespath<2.0.0,>=0.7.1 in /opt/conda/lib/python3.12/site-packages (from botocore<1.35.24,>=1.35.16->aiobotocore<3.0.0,>=2.5.4->s3fs) (1.0.1)\n",
      "Requirement already satisfied: python-dateutil<3.0.0,>=2.1 in /opt/conda/lib/python3.12/site-packages (from botocore<1.35.24,>=1.35.16->aiobotocore<3.0.0,>=2.5.4->s3fs) (2.9.0)\n",
      "Requirement already satisfied: urllib3!=2.2.0,<3,>=1.25.4 in /opt/conda/lib/python3.12/site-packages (from botocore<1.35.24,>=1.35.16->aiobotocore<3.0.0,>=2.5.4->s3fs) (2.2.3)\n",
      "Requirement already satisfied: idna>=2.0 in /opt/conda/lib/python3.12/site-packages (from yarl<2.0,>=1.12.0->aiohttp!=4.0.0a0,!=4.0.0a1->s3fs) (3.10)\n",
      "Requirement already satisfied: propcache>=0.2.0 in /opt/conda/lib/python3.12/site-packages (from yarl<2.0,>=1.12.0->aiohttp!=4.0.0a0,!=4.0.0a1->s3fs) (0.2.0)\n",
      "Requirement already satisfied: six>=1.5 in /opt/conda/lib/python3.12/site-packages (from python-dateutil<3.0.0,>=2.1->botocore<1.35.24,>=1.35.16->aiobotocore<3.0.0,>=2.5.4->s3fs) (1.16.0)\n"
     ]
    }
   ],
   "source": [
    "!pip install s3fs"
   ]
  },
  {
   "cell_type": "markdown",
   "id": "2450dd66",
   "metadata": {},
   "source": [
    "## Listing des fichiers avec le client S3"
   ]
  },
  {
   "cell_type": "code",
   "execution_count": 3,
   "id": "f4d2eda0-8494-4106-818a-4302b753e7f0",
   "metadata": {},
   "outputs": [],
   "source": [
    "import os\n",
    "import s3fs\n",
    "\n",
    "# Create filesystem object\n",
    "S3_ENDPOINT_URL = \"https://\" + os.environ[\"AWS_S3_ENDPOINT\"]\n",
    "fs = s3fs.S3FileSystem(client_kwargs={'endpoint_url': S3_ENDPOINT_URL})"
   ]
  },
  {
   "cell_type": "code",
   "execution_count": 4,
   "id": "e7190091-8261-4b23-b6ec-20afc66c1d5c",
   "metadata": {},
   "outputs": [
    {
     "data": {
      "text/plain": [
       "['dlb-hackathon/datasets-diffusion/reclamations_formulaire_web/.keep',\n",
       " 'dlb-hackathon/datasets-diffusion/reclamations_formulaire_web/idfm_reclamations_formulaire_web.parquet']"
      ]
     },
     "execution_count": 4,
     "metadata": {},
     "output_type": "execute_result"
    }
   ],
   "source": [
    "fs.ls(\"dlb-hackathon/datasets-diffusion/reclamations_formulaire_web\", refresh=True)"
   ]
  },
  {
   "cell_type": "markdown",
   "id": "6147f4af",
   "metadata": {},
   "source": [
    "## Dépôt de fichier sur un répertoire d'équipe avec la ligne de commande"
   ]
  },
  {
   "cell_type": "code",
   "execution_count": 18,
   "id": "ca75e120",
   "metadata": {},
   "outputs": [
    {
     "name": "stdout",
     "output_type": "stream",
     "text": [
      "...es.geojson: 24.56 MiB / 24.56 MiB ┃▓▓▓▓▓▓▓▓▓▓▓▓▓▓▓▓▓▓▓▓▓▓▓▓▓┃ 106.90 MiB/s 0s\u001b[0;22m\u001b[0m\u001b[m\u001b[32;1m\u001b[m\u001b[32;1m"
     ]
    }
   ],
   "source": [
    "# On peut uploader par une commande terminal\n",
    "!mc cp ./arrets-lignes.geojson s3/dlb-hackathon/equipe-0/arrets-lignes.geojson"
   ]
  },
  {
   "cell_type": "markdown",
   "id": "4924bd67",
   "metadata": {},
   "source": [
    "## Requêtage de données avec Duckdb"
   ]
  },
  {
   "cell_type": "markdown",
   "id": "2b3923cd",
   "metadata": {},
   "source": [
    "### Paramétrage de duckdb depuis les variables d'environnement"
   ]
  },
  {
   "cell_type": "code",
   "execution_count": 32,
   "id": "c0ba405b",
   "metadata": {},
   "outputs": [
    {
     "data": {
      "text/plain": [
       "<duckdb.duckdb.DuckDBPyConnection at 0x7f688a1f5a70>"
      ]
     },
     "execution_count": 32,
     "metadata": {},
     "output_type": "execute_result"
    }
   ],
   "source": [
    "# Paramétrage pour un appel Duckdb\n",
    "import duckdb as ddb\n",
    "ddb.execute(\"SET s3_region='fr-central';\")\n",
    "ddb.execute(\"SET s3_url_style='path';\")\n",
    "ddb.execute(\"SET s3_endpoint='minio.data-platform-self-service.net';\")\n",
    "ddb.execute(\"SET s3_access_key_id='xxxx' ;\") # A récupérer dans les paramètres \"Valeurs de Helm\" du service\n",
    "ddb.execute(\"SET s3_secret_access_key='xxxx';\") # A récupérer dans les paramètres \"Valeurs de Helm\" du service"
   ]
  },
  {
   "cell_type": "markdown",
   "id": "a17898e5",
   "metadata": {},
   "source": [
    "### Requêtage d'un fichier parquet"
   ]
  },
  {
   "cell_type": "code",
   "execution_count": 36,
   "id": "c9557f0a",
   "metadata": {},
   "outputs": [
    {
     "data": {
      "text/html": [
       "<div>\n",
       "<style scoped>\n",
       "    .dataframe tbody tr th:only-of-type {\n",
       "        vertical-align: middle;\n",
       "    }\n",
       "\n",
       "    .dataframe tbody tr th {\n",
       "        vertical-align: top;\n",
       "    }\n",
       "\n",
       "    .dataframe thead th {\n",
       "        text-align: right;\n",
       "    }\n",
       "</style>\n",
       "<table border=\"1\" class=\"dataframe\">\n",
       "  <thead>\n",
       "    <tr style=\"text-align: right;\">\n",
       "      <th></th>\n",
       "      <th>id</th>\n",
       "      <th>date_demande</th>\n",
       "      <th>canal_demande</th>\n",
       "      <th>texte_anonymise</th>\n",
       "      <th>classification_services_idfm</th>\n",
       "    </tr>\n",
       "  </thead>\n",
       "  <tbody>\n",
       "    <tr>\n",
       "      <th>18002</th>\n",
       "      <td>32056</td>\n",
       "      <td>2023-05-22 17:04:00</td>\n",
       "      <td>Formulaire Web</td>\n",
       "      <td>Bonjour, \\n  \\n J'ai voulu charger mon pass Na...</td>\n",
       "      <td>Tarification Abonnement &gt; Support Canal Mobile...</td>\n",
       "    </tr>\n",
       "    <tr>\n",
       "      <th>9838</th>\n",
       "      <td>21477</td>\n",
       "      <td>2022-11-25 19:40:00</td>\n",
       "      <td>Formulaire Web</td>\n",
       "      <td>Bonjour, \\n  \\n J’ai effectué cette semaine de...</td>\n",
       "      <td>SAV &gt; Attestation de paiement</td>\n",
       "    </tr>\n",
       "    <tr>\n",
       "      <th>13060</th>\n",
       "      <td>31999</td>\n",
       "      <td>2023-05-21 11:46:00</td>\n",
       "      <td>Formulaire Web</td>\n",
       "      <td>Bonjour,  \\n Je viens vers vous pour faire un ...</td>\n",
       "      <td>Tarification Abonnement &gt; Support Autre &gt; Pass...</td>\n",
       "    </tr>\n",
       "    <tr>\n",
       "      <th>6066</th>\n",
       "      <td>33748</td>\n",
       "      <td>2023-07-10 12:08:00</td>\n",
       "      <td>Formulaire Web</td>\n",
       "      <td>L'application m'informe que mon téléphone \"Sam...</td>\n",
       "      <td>Tarification Abonnement &gt; Support Canal Mobile...</td>\n",
       "    </tr>\n",
       "    <tr>\n",
       "      <th>4387</th>\n",
       "      <td>44774</td>\n",
       "      <td>2024-05-28 15:27:00</td>\n",
       "      <td>Formulaire Web</td>\n",
       "      <td>Bonjour, \\n  \\n Je vous transmets ma bourse en...</td>\n",
       "      <td>Tarification Abonnement &gt; Forfaits Imagine R &gt;...</td>\n",
       "    </tr>\n",
       "  </tbody>\n",
       "</table>\n",
       "</div>"
      ],
      "text/plain": [
       "          id        date_demande   canal_demande  \\\n",
       "18002  32056 2023-05-22 17:04:00  Formulaire Web   \n",
       "9838   21477 2022-11-25 19:40:00  Formulaire Web   \n",
       "13060  31999 2023-05-21 11:46:00  Formulaire Web   \n",
       "6066   33748 2023-07-10 12:08:00  Formulaire Web   \n",
       "4387   44774 2024-05-28 15:27:00  Formulaire Web   \n",
       "\n",
       "                                         texte_anonymise  \\\n",
       "18002  Bonjour, \\n  \\n J'ai voulu charger mon pass Na...   \n",
       "9838   Bonjour, \\n  \\n J’ai effectué cette semaine de...   \n",
       "13060  Bonjour,  \\n Je viens vers vous pour faire un ...   \n",
       "6066   L'application m'informe que mon téléphone \"Sam...   \n",
       "4387   Bonjour, \\n  \\n Je vous transmets ma bourse en...   \n",
       "\n",
       "                            classification_services_idfm  \n",
       "18002  Tarification Abonnement > Support Canal Mobile...  \n",
       "9838                       SAV > Attestation de paiement  \n",
       "13060  Tarification Abonnement > Support Autre > Pass...  \n",
       "6066   Tarification Abonnement > Support Canal Mobile...  \n",
       "4387   Tarification Abonnement > Forfaits Imagine R >...  "
      ]
     },
     "execution_count": 36,
     "metadata": {},
     "output_type": "execute_result"
    }
   ],
   "source": [
    "ddb.sql(\"\"\"\n",
    "select * from \"s3://dlb-hackathon/datasets-diffusion/reclamations_formulaire_web/idfm_reclamations_formulaire_web.parquet\" \n",
    "\"\"\").to_df().sample(5)"
   ]
  },
  {
   "cell_type": "markdown",
   "id": "2b6696e3",
   "metadata": {},
   "source": [
    "## Manipulation des données avec Pandas"
   ]
  },
  {
   "cell_type": "code",
   "execution_count": 10,
   "id": "1c65db6b",
   "metadata": {},
   "outputs": [
    {
     "name": "stdout",
     "output_type": "stream",
     "text": [
      "Requirement already satisfied: pandas in /opt/conda/lib/python3.12/site-packages (2.2.3)\n",
      "Requirement already satisfied: numpy>=1.26.0 in /opt/conda/lib/python3.12/site-packages (from pandas) (2.1.1)\n",
      "Requirement already satisfied: python-dateutil>=2.8.2 in /opt/conda/lib/python3.12/site-packages (from pandas) (2.9.0)\n",
      "Requirement already satisfied: pytz>=2020.1 in /opt/conda/lib/python3.12/site-packages (from pandas) (2024.1)\n",
      "Requirement already satisfied: tzdata>=2022.7 in /opt/conda/lib/python3.12/site-packages (from pandas) (2024.1)\n",
      "Requirement already satisfied: six>=1.5 in /opt/conda/lib/python3.12/site-packages (from python-dateutil>=2.8.2->pandas) (1.16.0)\n"
     ]
    }
   ],
   "source": [
    "!pip install pandas"
   ]
  },
  {
   "cell_type": "markdown",
   "id": "017258be",
   "metadata": {},
   "source": [
    "### Lecture d'un fichier"
   ]
  },
  {
   "cell_type": "code",
   "execution_count": 37,
   "id": "3f685dab-b4d1-4343-941e-d8b329bc772d",
   "metadata": {},
   "outputs": [
    {
     "name": "stderr",
     "output_type": "stream",
     "text": [
      "/tmp/ipykernel_13902/2968963640.py:8: DtypeWarning: Columns (3) have mixed types. Specify dtype option on import or set low_memory=False.\n",
      "  df = pd.read_csv(file_in)\n"
     ]
    }
   ],
   "source": [
    "import pandas as pd\n",
    "\n",
    "BUCKET = \"dlb-hackathon\"\n",
    "FILE_KEY_S3 = \"datasets-diffusion/ascenseurs_historique_etat/RELEVES_ETATS_ASCENSEURS_SNCF_RATP_2021-2024.csv\"\n",
    "FILE_PATH_S3 = BUCKET + \"/\" + FILE_KEY_S3\n",
    "\n",
    "with fs.open(FILE_PATH_S3, mode=\"rb\") as file_in:\n",
    "    df = pd.read_csv(file_in)"
   ]
  },
  {
   "cell_type": "code",
   "execution_count": 8,
   "id": "1368f037-90f7-494d-940c-c280a45698ee",
   "metadata": {},
   "outputs": [
    {
     "data": {
      "text/html": [
       "<div>\n",
       "<style scoped>\n",
       "    .dataframe tbody tr th:only-of-type {\n",
       "        vertical-align: middle;\n",
       "    }\n",
       "\n",
       "    .dataframe tbody tr th {\n",
       "        vertical-align: top;\n",
       "    }\n",
       "\n",
       "    .dataframe thead th {\n",
       "        text-align: right;\n",
       "    }\n",
       "</style>\n",
       "<table border=\"1\" class=\"dataframe\">\n",
       "  <thead>\n",
       "    <tr style=\"text-align: right;\">\n",
       "      <th></th>\n",
       "      <th>operateur</th>\n",
       "      <th>date_releve</th>\n",
       "      <th>code_appareil</th>\n",
       "      <th>code_fonctionnel</th>\n",
       "      <th>etat</th>\n",
       "      <th>date_etat_debut</th>\n",
       "      <th>date_etat_fin</th>\n",
       "      <th>emplacement_gare</th>\n",
       "      <th>emplacement_situation</th>\n",
       "      <th>emplacement_direction</th>\n",
       "    </tr>\n",
       "  </thead>\n",
       "  <tbody>\n",
       "    <tr>\n",
       "      <th>0</th>\n",
       "      <td>RATP</td>\n",
       "      <td>2021-01-01 08:07:57</td>\n",
       "      <td>1004.0</td>\n",
       "      <td>ASC01-EQ11-A005-000000269</td>\n",
       "      <td>2.0</td>\n",
       "      <td>01/01/2021</td>\n",
       "      <td>NaN</td>\n",
       "      <td>SAINT OUEN</td>\n",
       "      <td>SA200</td>\n",
       "      <td>NaN</td>\n",
       "    </tr>\n",
       "    <tr>\n",
       "      <th>1</th>\n",
       "      <td>RATP</td>\n",
       "      <td>2021-01-01 08:07:57</td>\n",
       "      <td>1005.0</td>\n",
       "      <td>ASC02-EQ11-A005-000000270</td>\n",
       "      <td>2.0</td>\n",
       "      <td>01/01/2021</td>\n",
       "      <td>02/01/2021</td>\n",
       "      <td>SAINT OUEN</td>\n",
       "      <td>SA200</td>\n",
       "      <td>NaN</td>\n",
       "    </tr>\n",
       "    <tr>\n",
       "      <th>2</th>\n",
       "      <td>RATP</td>\n",
       "      <td>2021-01-01 08:07:57</td>\n",
       "      <td>1006.0</td>\n",
       "      <td>ASC03-EQ11-A005-000000271</td>\n",
       "      <td>2.0</td>\n",
       "      <td>01/01/2021</td>\n",
       "      <td>NaN</td>\n",
       "      <td>SAINT OUEN</td>\n",
       "      <td>SA200</td>\n",
       "      <td>NaN</td>\n",
       "    </tr>\n",
       "    <tr>\n",
       "      <th>3</th>\n",
       "      <td>RATP</td>\n",
       "      <td>2021-01-01 08:07:57</td>\n",
       "      <td>1007.0</td>\n",
       "      <td>ASC04-EQ11-A005-000000272</td>\n",
       "      <td>2.0</td>\n",
       "      <td>01/01/2021</td>\n",
       "      <td>NaN</td>\n",
       "      <td>SAINT OUEN</td>\n",
       "      <td>SA200</td>\n",
       "      <td>NaN</td>\n",
       "    </tr>\n",
       "    <tr>\n",
       "      <th>4</th>\n",
       "      <td>RATP</td>\n",
       "      <td>2021-01-01 08:07:57</td>\n",
       "      <td>1008.0</td>\n",
       "      <td>ASC05-EQ11-A005-000000273</td>\n",
       "      <td>2.0</td>\n",
       "      <td>01/01/2021</td>\n",
       "      <td>02/01/2021</td>\n",
       "      <td>SAINT OUEN</td>\n",
       "      <td>SA200</td>\n",
       "      <td>NaN</td>\n",
       "    </tr>\n",
       "  </tbody>\n",
       "</table>\n",
       "</div>"
      ],
      "text/plain": [
       "  operateur          date_releve  code_appareil           code_fonctionnel  \\\n",
       "0      RATP  2021-01-01 08:07:57         1004.0  ASC01-EQ11-A005-000000269   \n",
       "1      RATP  2021-01-01 08:07:57         1005.0  ASC02-EQ11-A005-000000270   \n",
       "2      RATP  2021-01-01 08:07:57         1006.0  ASC03-EQ11-A005-000000271   \n",
       "3      RATP  2021-01-01 08:07:57         1007.0  ASC04-EQ11-A005-000000272   \n",
       "4      RATP  2021-01-01 08:07:57         1008.0  ASC05-EQ11-A005-000000273   \n",
       "\n",
       "   etat date_etat_debut date_etat_fin emplacement_gare emplacement_situation  \\\n",
       "0   2.0      01/01/2021           NaN       SAINT OUEN                 SA200   \n",
       "1   2.0      01/01/2021    02/01/2021       SAINT OUEN                 SA200   \n",
       "2   2.0      01/01/2021           NaN       SAINT OUEN                 SA200   \n",
       "3   2.0      01/01/2021           NaN       SAINT OUEN                 SA200   \n",
       "4   2.0      01/01/2021    02/01/2021       SAINT OUEN                 SA200   \n",
       "\n",
       "  emplacement_direction  \n",
       "0                   NaN  \n",
       "1                   NaN  \n",
       "2                   NaN  \n",
       "3                   NaN  \n",
       "4                   NaN  "
      ]
     },
     "execution_count": 8,
     "metadata": {},
     "output_type": "execute_result"
    }
   ],
   "source": [
    "df.head()"
   ]
  },
  {
   "cell_type": "markdown",
   "id": "fea6a9cd",
   "metadata": {},
   "source": [
    "### Ecriture d'un fichier"
   ]
  },
  {
   "cell_type": "code",
   "execution_count": 40,
   "id": "07a4f9cc",
   "metadata": {},
   "outputs": [],
   "source": [
    "BUCKET = \"dlb-hackathon\"\n",
    "FILE_KEY_S3 = \"datasets-diffusion/donnees_territoire_GPSEO/bornes_recharges/IRVE_CU.parquet\"\n",
    "FILE_PATH_S3 = BUCKET + \"/\" + FILE_KEY_S3\n",
    "\n",
    "with fs.open(FILE_PATH_S3, mode=\"rb\") as file_in:\n",
    "    df = pd.read_parquet(file_in)"
   ]
  },
  {
   "cell_type": "code",
   "execution_count": 41,
   "id": "c77e41ff",
   "metadata": {},
   "outputs": [],
   "source": [
    "# Ecrire\n",
    "BUCKET_OUT = \"dlb-hackathon\"\n",
    "FILE_KEY_OUT_S3 = \"equipe-0/donnees_bornes_recharges.csv\"\n",
    "FILE_PATH_OUT_S3 = BUCKET_OUT + \"/\" + FILE_KEY_OUT_S3\n",
    "\n",
    "with fs.open(FILE_PATH_OUT_S3, 'w') as file_out:\n",
    "    df.to_csv(file_out)"
   ]
  },
  {
   "cell_type": "code",
   "execution_count": 30,
   "id": "46f080d9-0c17-4552-964a-eae541058618",
   "metadata": {},
   "outputs": [
    {
     "data": {
      "text/html": [
       "<div>\n",
       "<style scoped>\n",
       "    .dataframe tbody tr th:only-of-type {\n",
       "        vertical-align: middle;\n",
       "    }\n",
       "\n",
       "    .dataframe tbody tr th {\n",
       "        vertical-align: top;\n",
       "    }\n",
       "\n",
       "    .dataframe thead th {\n",
       "        text-align: right;\n",
       "    }\n",
       "</style>\n",
       "<table border=\"1\" class=\"dataframe\">\n",
       "  <thead>\n",
       "    <tr style=\"text-align: right;\">\n",
       "      <th></th>\n",
       "      <th>Unnamed: 0</th>\n",
       "      <th>objectid</th>\n",
       "      <th>adresse_ir</th>\n",
       "      <th>ville</th>\n",
       "      <th>nom_statio</th>\n",
       "      <th>geom</th>\n",
       "    </tr>\n",
       "  </thead>\n",
       "  <tbody>\n",
       "    <tr>\n",
       "      <th>0</th>\n",
       "      <td>0</td>\n",
       "      <td>4</td>\n",
       "      <td>Avenue De La Division Leclerc</td>\n",
       "      <td>AUBERGENVILLE</td>\n",
       "      <td>AUBERGENVILLE - Avenue De La Division Leclerc</td>\n",
       "      <td>b\"\\x01\\x01\\x00\\x00\\x00L\\x83\\xc0\\x16\\x8e\\xb6\\xf...</td>\n",
       "    </tr>\n",
       "    <tr>\n",
       "      <th>1</th>\n",
       "      <td>1</td>\n",
       "      <td>5</td>\n",
       "      <td>Place François Mitterrand</td>\n",
       "      <td>AUBERGENVILLE</td>\n",
       "      <td>AUBERGENVILLE - Place François Mitterrand</td>\n",
       "      <td>b'\\x01\\x01\\x00\\x00\\x00P\\xe6\\xbb\\xa2\\xf8\\x93\\xf...</td>\n",
       "    </tr>\n",
       "    <tr>\n",
       "      <th>2</th>\n",
       "      <td>2</td>\n",
       "      <td>6</td>\n",
       "      <td>Place De La Mairie</td>\n",
       "      <td>AULNAY-SUR-MAULDRE</td>\n",
       "      <td>AULNAY-SUR-MAULDRE - Place De La Mairie</td>\n",
       "      <td>b'\\x01\\x01\\x00\\x00\\x00m\\x17\\xd1$\\xa0\\x80\\xfd?\\...</td>\n",
       "    </tr>\n",
       "    <tr>\n",
       "      <th>3</th>\n",
       "      <td>3</td>\n",
       "      <td>7</td>\n",
       "      <td>2 Rue De Charnelles</td>\n",
       "      <td>BOUAFLE</td>\n",
       "      <td>BOUAFLE - Rue De Charnelles</td>\n",
       "      <td>b'\\x01\\x01\\x00\\x00\\x00\\xc3@\\xe9\\xd5\\x93T\\xfe?\\...</td>\n",
       "    </tr>\n",
       "    <tr>\n",
       "      <th>4</th>\n",
       "      <td>4</td>\n",
       "      <td>8</td>\n",
       "      <td>Rue Du Béarn</td>\n",
       "      <td>BUCHELAY</td>\n",
       "      <td>BUCHELAY - Rue Du Béarn</td>\n",
       "      <td>b\"\\x01\\x01\\x00\\x00\\x00'\\xf2PN,\\xab\\xfa?k,j\\xb3...</td>\n",
       "    </tr>\n",
       "  </tbody>\n",
       "</table>\n",
       "</div>"
      ],
      "text/plain": [
       "   Unnamed: 0  objectid                     adresse_ir               ville  \\\n",
       "0           0         4  Avenue De La Division Leclerc       AUBERGENVILLE   \n",
       "1           1         5      Place François Mitterrand       AUBERGENVILLE   \n",
       "2           2         6             Place De La Mairie  AULNAY-SUR-MAULDRE   \n",
       "3           3         7            2 Rue De Charnelles             BOUAFLE   \n",
       "4           4         8                   Rue Du Béarn            BUCHELAY   \n",
       "\n",
       "                                      nom_statio  \\\n",
       "0  AUBERGENVILLE - Avenue De La Division Leclerc   \n",
       "1      AUBERGENVILLE - Place François Mitterrand   \n",
       "2        AULNAY-SUR-MAULDRE - Place De La Mairie   \n",
       "3                    BOUAFLE - Rue De Charnelles   \n",
       "4                        BUCHELAY - Rue Du Béarn   \n",
       "\n",
       "                                                geom  \n",
       "0  b\"\\x01\\x01\\x00\\x00\\x00L\\x83\\xc0\\x16\\x8e\\xb6\\xf...  \n",
       "1  b'\\x01\\x01\\x00\\x00\\x00P\\xe6\\xbb\\xa2\\xf8\\x93\\xf...  \n",
       "2  b'\\x01\\x01\\x00\\x00\\x00m\\x17\\xd1$\\xa0\\x80\\xfd?\\...  \n",
       "3  b'\\x01\\x01\\x00\\x00\\x00\\xc3@\\xe9\\xd5\\x93T\\xfe?\\...  \n",
       "4  b\"\\x01\\x01\\x00\\x00\\x00'\\xf2PN,\\xab\\xfa?k,j\\xb3...  "
      ]
     },
     "execution_count": 30,
     "metadata": {},
     "output_type": "execute_result"
    }
   ],
   "source": [
    "# Verification\n",
    "BUCKET = \"dlb-hackathon\"\n",
    "FILE_KEY_S3 = \"equipe-0/donnees_bornes_recharges.csv\"\n",
    "FILE_PATH_S3 = BUCKET + \"/\" + FILE_KEY_S3\n",
    "\n",
    "with fs.open(FILE_PATH_S3, mode=\"rb\") as file_in:\n",
    "    df = pd.read_csv(file_in)\n",
    "\n",
    "df.head()"
   ]
  }
 ],
 "metadata": {
  "kernelspec": {
   "display_name": "Python 3 (ipykernel)",
   "language": "python",
   "name": "python3"
  },
  "language_info": {
   "codemirror_mode": {
    "name": "ipython",
    "version": 3
   },
   "file_extension": ".py",
   "mimetype": "text/x-python",
   "name": "python",
   "nbconvert_exporter": "python",
   "pygments_lexer": "ipython3",
   "version": "3.12.6"
  }
 },
 "nbformat": 4,
 "nbformat_minor": 5
}
